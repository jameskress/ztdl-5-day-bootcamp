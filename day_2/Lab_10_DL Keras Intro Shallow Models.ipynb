{
 "cells": [
  {
   "cell_type": "markdown",
   "metadata": {},
   "source": [
    "#  Keras Intro: Shallow Models\n",
    "\n",
    "Keras Documentation: https://keras.io\n",
    "\n",
    "In this notebook we explore how to use Keras to implement 2 traditional Machine Learning models:\n",
    "- **Linear Regression** to predict continuous data\n",
    "- **Logistic Regression** to predict categorical data"
   ]
  },
  {
   "cell_type": "markdown",
   "metadata": {},
   "source": [
    "## Linear Regression"
   ]
  },
  {
   "cell_type": "code",
   "execution_count": 1,
   "metadata": {},
   "outputs": [],
   "source": [
    "%matplotlib inline\n",
    "import matplotlib.pyplot as plt\n",
    "import pandas as pd\n",
    "import numpy as np"
   ]
  },
  {
   "cell_type": "markdown",
   "metadata": {},
   "source": [
    "### 0. Load data"
   ]
  },
  {
   "cell_type": "code",
   "execution_count": 2,
   "metadata": {},
   "outputs": [],
   "source": [
    "df = pd.read_csv('../data/weight-height.csv')"
   ]
  },
  {
   "cell_type": "code",
   "execution_count": 3,
   "metadata": {},
   "outputs": [
    {
     "data": {
      "text/html": [
       "<div>\n",
       "<style scoped>\n",
       "    .dataframe tbody tr th:only-of-type {\n",
       "        vertical-align: middle;\n",
       "    }\n",
       "\n",
       "    .dataframe tbody tr th {\n",
       "        vertical-align: top;\n",
       "    }\n",
       "\n",
       "    .dataframe thead th {\n",
       "        text-align: right;\n",
       "    }\n",
       "</style>\n",
       "<table border=\"1\" class=\"dataframe\">\n",
       "  <thead>\n",
       "    <tr style=\"text-align: right;\">\n",
       "      <th></th>\n",
       "      <th>Gender</th>\n",
       "      <th>Height</th>\n",
       "      <th>Weight</th>\n",
       "    </tr>\n",
       "  </thead>\n",
       "  <tbody>\n",
       "    <tr>\n",
       "      <th>0</th>\n",
       "      <td>Male</td>\n",
       "      <td>73.847017</td>\n",
       "      <td>241.893563</td>\n",
       "    </tr>\n",
       "    <tr>\n",
       "      <th>1</th>\n",
       "      <td>Male</td>\n",
       "      <td>68.781904</td>\n",
       "      <td>162.310473</td>\n",
       "    </tr>\n",
       "    <tr>\n",
       "      <th>2</th>\n",
       "      <td>Male</td>\n",
       "      <td>74.110105</td>\n",
       "      <td>212.740856</td>\n",
       "    </tr>\n",
       "    <tr>\n",
       "      <th>3</th>\n",
       "      <td>Male</td>\n",
       "      <td>71.730978</td>\n",
       "      <td>220.042470</td>\n",
       "    </tr>\n",
       "    <tr>\n",
       "      <th>4</th>\n",
       "      <td>Male</td>\n",
       "      <td>69.881796</td>\n",
       "      <td>206.349801</td>\n",
       "    </tr>\n",
       "  </tbody>\n",
       "</table>\n",
       "</div>"
      ],
      "text/plain": [
       "  Gender     Height      Weight\n",
       "0   Male  73.847017  241.893563\n",
       "1   Male  68.781904  162.310473\n",
       "2   Male  74.110105  212.740856\n",
       "3   Male  71.730978  220.042470\n",
       "4   Male  69.881796  206.349801"
      ]
     },
     "execution_count": 3,
     "metadata": {},
     "output_type": "execute_result"
    }
   ],
   "source": [
    "df.head()"
   ]
  },
  {
   "cell_type": "code",
   "execution_count": 4,
   "metadata": {},
   "outputs": [
    {
     "data": {
      "text/plain": [
       "<matplotlib.axes._subplots.AxesSubplot at 0x7f4c9c6b4908>"
      ]
     },
     "execution_count": 4,
     "metadata": {},
     "output_type": "execute_result"
    },
    {
     "data": {
      "image/png": "[encoded data removed]",
      "text/plain": [
       "<Figure size 432x288 with 1 Axes>"
      ]
     },
     "metadata": {
      "needs_background": "light"
     },
     "output_type": "display_data"
    }
   ],
   "source": [
    "df.plot(kind='scatter',\n",
    "        x='Height',\n",
    "        y='Weight',\n",
    "        title='Weight and Height in adults')"
   ]
  },
  {
   "cell_type": "markdown",
   "metadata": {},
   "source": [
    "### 1. Create Train/Test split"
   ]
  },
  {
   "cell_type": "code",
   "execution_count": 5,
   "metadata": {},
   "outputs": [],
   "source": [
    "from sklearn.model_selection import train_test_split"
   ]
  },
  {
   "cell_type": "code",
   "execution_count": 6,
   "metadata": {},
   "outputs": [],
   "source": [
    "X = df[['Height']].values\n",
    "y = df['Weight'].values\n",
    "\n",
    "X_train, X_test, y_train, y_test = train_test_split(X, y, \n",
    "    test_size = 0.3, random_state=0)"
   ]
  },
  {
   "cell_type": "markdown",
   "metadata": {},
   "source": [
    "### 2. Train Linear Regression Model"
   ]
  },
  {
   "cell_type": "code",
   "execution_count": 7,
   "metadata": {},
   "outputs": [
    {
     "name": "stderr",
     "output_type": "stream",
     "text": [
      "Using TensorFlow backend.\n"
     ]
    }
   ],
   "source": [
    "from keras.models import Sequential\n",
    "from keras.layers import Dense\n",
    "from keras.optimizers import Adam, SGD"
   ]
  },
  {
   "cell_type": "code",
   "execution_count": 8,
   "metadata": {},
   "outputs": [],
   "source": [
    "model = Sequential()"
   ]
  },
  {
   "cell_type": "code",
   "execution_count": 9,
   "metadata": {},
   "outputs": [],
   "source": [
    "model.add(Dense(1, input_shape=(1,)))"
   ]
  },
  {
   "cell_type": "code",
   "execution_count": 10,
   "metadata": {},
   "outputs": [
    {
     "name": "stdout",
     "output_type": "stream",
     "text": [
      "_________________________________________________________________\n",
      "Layer (type)                 Output Shape              Param #   \n",
      "=================================================================\n",
      "dense_1 (Dense)              (None, 1)                 2         \n",
      "=================================================================\n",
      "Total params: 2\n",
      "Trainable params: 2\n",
      "Non-trainable params: 0\n",
      "_________________________________________________________________\n"
     ]
    }
   ],
   "source": [
    "model.summary()"
   ]
  },
  {
   "cell_type": "code",
   "execution_count": 11,
   "metadata": {},
   "outputs": [],
   "source": [
    "model.compile(Adam(lr=0.9), 'mean_squared_error')"
   ]
  },
  {
   "cell_type": "code",
   "execution_count": 12,
   "metadata": {},
   "outputs": [
    {
     "name": "stdout",
     "output_type": "stream",
     "text": [
      "Epoch 1/40\n",
      "7000/7000 [==============================] - 2s 282us/step - loss: 777.8553\n",
      "Epoch 2/40\n",
      "7000/7000 [==============================] - 1s 145us/step - loss: 576.2438\n",
      "Epoch 3/40\n",
      "7000/7000 [==============================] - 1s 143us/step - loss: 534.6226\n",
      "Epoch 4/40\n",
      "7000/7000 [==============================] - 1s 132us/step - loss: 501.2575\n",
      "Epoch 5/40\n",
      "7000/7000 [==============================] - 1s 124us/step - loss: 472.2337\n",
      "Epoch 6/40\n",
      "7000/7000 [==============================] - 1s 118us/step - loss: 409.4950\n",
      "Epoch 7/40\n",
      "7000/7000 [==============================] - 1s 122us/step - loss: 395.6000\n",
      "Epoch 8/40\n",
      "7000/7000 [==============================] - 1s 117us/step - loss: 343.2469\n",
      "Epoch 9/40\n",
      "7000/7000 [==============================] - 1s 126us/step - loss: 346.5665\n",
      "Epoch 10/40\n",
      "7000/7000 [==============================] - 1s 120us/step - loss: 318.8764\n",
      "Epoch 11/40\n",
      "7000/7000 [==============================] - 1s 126us/step - loss: 284.0168\n",
      "Epoch 12/40\n",
      "7000/7000 [==============================] - 1s 117us/step - loss: 271.3062\n",
      "Epoch 13/40\n",
      "7000/7000 [==============================] - 1s 128us/step - loss: 262.7656\n",
      "Epoch 14/40\n",
      "7000/7000 [==============================] - 1s 123us/step - loss: 236.0752\n",
      "Epoch 15/40\n",
      "7000/7000 [==============================] - 1s 120us/step - loss: 248.2437\n",
      "Epoch 16/40\n",
      "7000/7000 [==============================] - 1s 139us/step - loss: 215.7785\n",
      "Epoch 17/40\n",
      "7000/7000 [==============================] - 1s 156us/step - loss: 216.2947\n",
      "Epoch 18/40\n",
      "7000/7000 [==============================] - 1s 158us/step - loss: 219.1441\n",
      "Epoch 19/40\n",
      "7000/7000 [==============================] - 1s 156us/step - loss: 217.5942\n",
      "Epoch 20/40\n",
      "7000/7000 [==============================] - 1s 157us/step - loss: 189.4917\n",
      "Epoch 21/40\n",
      "7000/7000 [==============================] - 1s 171us/step - loss: 196.8414\n",
      "Epoch 22/40\n",
      "7000/7000 [==============================] - 1s 143us/step - loss: 188.0149\n",
      "Epoch 23/40\n",
      "7000/7000 [==============================] - 1s 143us/step - loss: 187.0995\n",
      "Epoch 24/40\n",
      "7000/7000 [==============================] - 1s 144us/step - loss: 182.3945\n",
      "Epoch 25/40\n",
      "7000/7000 [==============================] - 1s 152us/step - loss: 181.3962\n",
      "Epoch 26/40\n",
      "7000/7000 [==============================] - 1s 146us/step - loss: 175.7998\n",
      "Epoch 27/40\n",
      "7000/7000 [==============================] - 1s 144us/step - loss: 179.3541\n",
      "Epoch 28/40\n",
      "7000/7000 [==============================] - 1s 137us/step - loss: 180.2704\n",
      "Epoch 29/40\n",
      "7000/7000 [==============================] - 1s 135us/step - loss: 190.0730\n",
      "Epoch 30/40\n",
      "7000/7000 [==============================] - 1s 137us/step - loss: 177.3043\n",
      "Epoch 31/40\n",
      "7000/7000 [==============================] - 1s 135us/step - loss: 208.9886\n",
      "Epoch 32/40\n",
      "7000/7000 [==============================] - 1s 138us/step - loss: 171.9694\n",
      "Epoch 33/40\n",
      "7000/7000 [==============================] - 1s 132us/step - loss: 187.7761\n",
      "Epoch 34/40\n",
      "7000/7000 [==============================] - 1s 157us/step - loss: 177.8788\n",
      "Epoch 35/40\n",
      "7000/7000 [==============================] - 1s 141us/step - loss: 180.3166\n",
      "Epoch 36/40\n",
      "7000/7000 [==============================] - 1s 140us/step - loss: 170.4542\n",
      "Epoch 37/40\n",
      "7000/7000 [==============================] - 1s 144us/step - loss: 172.8975\n",
      "Epoch 38/40\n",
      "7000/7000 [==============================] - 1s 155us/step - loss: 187.5625\n",
      "Epoch 39/40\n",
      "7000/7000 [==============================] - 1s 158us/step - loss: 186.5680\n",
      "Epoch 40/40\n",
      "7000/7000 [==============================] - 1s 154us/step - loss: 173.9024\n"
     ]
    },
    {
     "data": {
      "text/plain": [
       "<keras.callbacks.History at 0x7f4ca1024470>"
      ]
     },
     "execution_count": 12,
     "metadata": {},
     "output_type": "execute_result"
    }
   ],
   "source": [
    "model.fit(X_train, y_train, epochs=40)"
   ]
  },
  {
   "cell_type": "markdown",
   "metadata": {},
   "source": [
    "### 3. Evaluate Model Performance"
   ]
  },
  {
   "cell_type": "code",
   "execution_count": 13,
   "metadata": {},
   "outputs": [],
   "source": [
    "from sklearn.metrics import r2_score"
   ]
  },
  {
   "cell_type": "code",
   "execution_count": 14,
   "metadata": {},
   "outputs": [],
   "source": [
    "y_train_pred = model.predict(X_train).ravel()\n",
    "y_test_pred = model.predict(X_test).ravel()"
   ]
  },
  {
   "cell_type": "code",
   "execution_count": 15,
   "metadata": {},
   "outputs": [
    {
     "name": "stdout",
     "output_type": "stream",
     "text": [
      "The R2 score on the Train set is:\t0.849\n",
      "The R2 score on the Test set is:\t0.846\n"
     ]
    }
   ],
   "source": [
    "print(\"The R2 score on the Train set is:\\t{:0.3f}\".format(r2_score(y_train, y_train_pred)))\n",
    "print(\"The R2 score on the Test set is:\\t{:0.3f}\".format(r2_score(y_test, y_test_pred)))"
   ]
  },
  {
   "cell_type": "code",
   "execution_count": 16,
   "metadata": {},
   "outputs": [
    {
     "data": {
      "text/plain": [
       "[<matplotlib.lines.Line2D at 0x7f4c282b9ef0>]"
      ]
     },
     "execution_count": 16,
     "metadata": {},
     "output_type": "execute_result"
    },
    {
     "data": {
      "image/png": "[encoded data removed]",
      "text/plain": [
       "<Figure size 432x288 with 1 Axes>"
      ]
     },
     "metadata": {
      "needs_background": "light"
     },
     "output_type": "display_data"
    }
   ],
   "source": [
    "df.plot(kind='scatter',\n",
    "        x='Height',\n",
    "        y='Weight',\n",
    "        title='Weight and Height in adults')\n",
    "plt.plot(X_test, y_test_pred, color='red')"
   ]
  },
  {
   "cell_type": "code",
   "execution_count": 17,
   "metadata": {},
   "outputs": [],
   "source": [
    "W, B = model.get_weights()"
   ]
  },
  {
   "cell_type": "code",
   "execution_count": 18,
   "metadata": {},
   "outputs": [
    {
     "data": {
      "text/plain": [
       "array([[7.6363277]], dtype=float32)"
      ]
     },
     "execution_count": 18,
     "metadata": {},
     "output_type": "execute_result"
    }
   ],
   "source": [
    "W"
   ]
  },
  {
   "cell_type": "code",
   "execution_count": 19,
   "metadata": {},
   "outputs": [
    {
     "data": {
      "text/plain": [
       "array([-342.6586], dtype=float32)"
      ]
     },
     "execution_count": 19,
     "metadata": {},
     "output_type": "execute_result"
    }
   ],
   "source": [
    "B"
   ]
  },
  {
   "cell_type": "markdown",
   "metadata": {},
   "source": [
    "# Classification"
   ]
  },
  {
   "cell_type": "markdown",
   "metadata": {},
   "source": [
    "### 0. Load Data"
   ]
  },
  {
   "cell_type": "code",
   "execution_count": 20,
   "metadata": {},
   "outputs": [],
   "source": [
    "df = pd.read_csv('../data/user_visit_duration.csv')"
   ]
  },
  {
   "cell_type": "code",
   "execution_count": 21,
   "metadata": {},
   "outputs": [
    {
     "data": {
      "text/html": [
       "<div>\n",
       "<style scoped>\n",
       "    .dataframe tbody tr th:only-of-type {\n",
       "        vertical-align: middle;\n",
       "    }\n",
       "\n",
       "    .dataframe tbody tr th {\n",
       "        vertical-align: top;\n",
       "    }\n",
       "\n",
       "    .dataframe thead th {\n",
       "        text-align: right;\n",
       "    }\n",
       "</style>\n",
       "<table border=\"1\" class=\"dataframe\">\n",
       "  <thead>\n",
       "    <tr style=\"text-align: right;\">\n",
       "      <th></th>\n",
       "      <th>Time (min)</th>\n",
       "      <th>Buy</th>\n",
       "    </tr>\n",
       "  </thead>\n",
       "  <tbody>\n",
       "    <tr>\n",
       "      <th>0</th>\n",
       "      <td>2.000000</td>\n",
       "      <td>0</td>\n",
       "    </tr>\n",
       "    <tr>\n",
       "      <th>1</th>\n",
       "      <td>0.683333</td>\n",
       "      <td>0</td>\n",
       "    </tr>\n",
       "    <tr>\n",
       "      <th>2</th>\n",
       "      <td>3.216667</td>\n",
       "      <td>1</td>\n",
       "    </tr>\n",
       "    <tr>\n",
       "      <th>3</th>\n",
       "      <td>0.900000</td>\n",
       "      <td>0</td>\n",
       "    </tr>\n",
       "    <tr>\n",
       "      <th>4</th>\n",
       "      <td>1.533333</td>\n",
       "      <td>1</td>\n",
       "    </tr>\n",
       "  </tbody>\n",
       "</table>\n",
       "</div>"
      ],
      "text/plain": [
       "   Time (min)  Buy\n",
       "0    2.000000    0\n",
       "1    0.683333    0\n",
       "2    3.216667    1\n",
       "3    0.900000    0\n",
       "4    1.533333    1"
      ]
     },
     "execution_count": 21,
     "metadata": {},
     "output_type": "execute_result"
    }
   ],
   "source": [
    "df.head()"
   ]
  },
  {
   "cell_type": "code",
   "execution_count": 22,
   "metadata": {},
   "outputs": [
    {
     "data": {
      "text/plain": [
       "<matplotlib.axes._subplots.AxesSubplot at 0x7f4c282f1e80>"
      ]
     },
     "execution_count": 22,
     "metadata": {},
     "output_type": "execute_result"
    },
    {
     "data": {
      "image/png": "[encoded data removed]",
      "text/plain": [
       "<Figure size 432x288 with 1 Axes>"
      ]
     },
     "metadata": {
      "needs_background": "light"
     },
     "output_type": "display_data"
    }
   ],
   "source": [
    "df.plot(kind='scatter', x='Time (min)', y='Buy')"
   ]
  },
  {
   "cell_type": "markdown",
   "metadata": {},
   "source": [
    "### 1. Create Train/Test split"
   ]
  },
  {
   "cell_type": "code",
   "execution_count": 23,
   "metadata": {},
   "outputs": [],
   "source": [
    "X = df[['Time (min)']].values\n",
    "y = df['Buy'].values"
   ]
  },
  {
   "cell_type": "code",
   "execution_count": 24,
   "metadata": {},
   "outputs": [],
   "source": [
    "X_train, X_test, y_train, y_test = train_test_split(X, y, \n",
    "    test_size = 0.3, random_state=0)"
   ]
  },
  {
   "cell_type": "markdown",
   "metadata": {},
   "source": [
    "### 2. Train Logistic Regression Model"
   ]
  },
  {
   "cell_type": "code",
   "execution_count": 25,
   "metadata": {},
   "outputs": [],
   "source": [
    "model = Sequential()"
   ]
  },
  {
   "cell_type": "code",
   "execution_count": 26,
   "metadata": {},
   "outputs": [],
   "source": [
    "model.add(Dense(1, input_shape=(1,), activation='sigmoid'))"
   ]
  },
  {
   "cell_type": "code",
   "execution_count": 27,
   "metadata": {},
   "outputs": [
    {
     "name": "stdout",
     "output_type": "stream",
     "text": [
      "_________________________________________________________________\n",
      "Layer (type)                 Output Shape              Param #   \n",
      "=================================================================\n",
      "dense_2 (Dense)              (None, 1)                 2         \n",
      "=================================================================\n",
      "Total params: 2\n",
      "Trainable params: 2\n",
      "Non-trainable params: 0\n",
      "_________________________________________________________________\n"
     ]
    }
   ],
   "source": [
    "model.summary()"
   ]
  },
  {
   "cell_type": "code",
   "execution_count": 28,
   "metadata": {},
   "outputs": [],
   "source": [
    "model.compile(SGD(lr=0.5), 'binary_crossentropy', metrics=['accuracy'])"
   ]
  },
  {
   "cell_type": "code",
   "execution_count": 29,
   "metadata": {},
   "outputs": [
    {
     "name": "stdout",
     "output_type": "stream",
     "text": [
      "Epoch 1/40\n",
      "70/70 [==============================] - 0s 2ms/step - loss: 0.9818 - acc: 0.5714\n",
      "Epoch 2/40\n",
      "70/70 [==============================] - 0s 138us/step - loss: 0.6100 - acc: 0.6429\n",
      "Epoch 3/40\n",
      "70/70 [==============================] - 0s 152us/step - loss: 0.5302 - acc: 0.8143\n",
      "Epoch 4/40\n",
      "70/70 [==============================] - 0s 138us/step - loss: 0.5559 - acc: 0.7429\n",
      "Epoch 5/40\n",
      "70/70 [==============================] - 0s 166us/step - loss: 0.5319 - acc: 0.7857\n",
      "Epoch 6/40\n",
      "70/70 [==============================] - 0s 157us/step - loss: 0.5254 - acc: 0.7857\n",
      "Epoch 7/40\n",
      "70/70 [==============================] - 0s 706us/step - loss: 0.5155 - acc: 0.7143\n",
      "Epoch 8/40\n",
      "70/70 [==============================] - 0s 149us/step - loss: 0.5187 - acc: 0.7571\n",
      "Epoch 9/40\n",
      "70/70 [==============================] - 0s 138us/step - loss: 0.4851 - acc: 0.7571\n",
      "Epoch 10/40\n",
      "70/70 [==============================] - 0s 169us/step - loss: 0.4841 - acc: 0.8000\n",
      "Epoch 11/40\n",
      "70/70 [==============================] - 0s 180us/step - loss: 0.4852 - acc: 0.7571\n",
      "Epoch 12/40\n",
      "70/70 [==============================] - 0s 678us/step - loss: 0.4733 - acc: 0.7571\n",
      "Epoch 13/40\n",
      "70/70 [==============================] - 0s 140us/step - loss: 0.4678 - acc: 0.7857\n",
      "Epoch 14/40\n",
      "70/70 [==============================] - 0s 143us/step - loss: 0.4724 - acc: 0.7714\n",
      "Epoch 15/40\n",
      "70/70 [==============================] - 0s 142us/step - loss: 0.4656 - acc: 0.7857\n",
      "Epoch 16/40\n",
      "70/70 [==============================] - 0s 142us/step - loss: 0.4572 - acc: 0.8000\n",
      "Epoch 17/40\n",
      "70/70 [==============================] - 0s 165us/step - loss: 0.4648 - acc: 0.7429\n",
      "Epoch 18/40\n",
      "70/70 [==============================] - 0s 136us/step - loss: 0.4589 - acc: 0.7571\n",
      "Epoch 19/40\n",
      "70/70 [==============================] - 0s 164us/step - loss: 0.4488 - acc: 0.7857\n",
      "Epoch 20/40\n",
      "70/70 [==============================] - 0s 155us/step - loss: 0.4594 - acc: 0.8143\n",
      "Epoch 21/40\n",
      "70/70 [==============================] - 0s 139us/step - loss: 0.4549 - acc: 0.7857\n",
      "Epoch 22/40\n",
      "70/70 [==============================] - 0s 166us/step - loss: 0.4456 - acc: 0.7714\n",
      "Epoch 23/40\n",
      "70/70 [==============================] - 0s 710us/step - loss: 0.4512 - acc: 0.7857\n",
      "Epoch 24/40\n",
      "70/70 [==============================] - 0s 178us/step - loss: 0.4534 - acc: 0.7571\n",
      "Epoch 25/40\n",
      "70/70 [==============================] - 0s 166us/step - loss: 0.4539 - acc: 0.7714\n",
      "Epoch 26/40\n",
      "70/70 [==============================] - 0s 182us/step - loss: 0.4430 - acc: 0.8000\n",
      "Epoch 27/40\n",
      "70/70 [==============================] - 0s 709us/step - loss: 0.4637 - acc: 0.8000\n",
      "Epoch 28/40\n",
      "70/70 [==============================] - 0s 156us/step - loss: 0.4403 - acc: 0.8000\n",
      "Epoch 29/40\n",
      "70/70 [==============================] - 0s 163us/step - loss: 0.4355 - acc: 0.7714\n",
      "Epoch 30/40\n",
      "70/70 [==============================] - 0s 166us/step - loss: 0.4391 - acc: 0.7857\n",
      "Epoch 31/40\n",
      "70/70 [==============================] - 0s 166us/step - loss: 0.4509 - acc: 0.7286\n",
      "Epoch 32/40\n",
      "70/70 [==============================] - 0s 715us/step - loss: 0.4446 - acc: 0.7857\n",
      "Epoch 33/40\n",
      "70/70 [==============================] - 0s 158us/step - loss: 0.4308 - acc: 0.7857\n",
      "Epoch 34/40\n",
      "70/70 [==============================] - 0s 177us/step - loss: 0.4339 - acc: 0.7857\n",
      "Epoch 35/40\n",
      "70/70 [==============================] - 0s 182us/step - loss: 0.4334 - acc: 0.7714\n",
      "Epoch 36/40\n",
      "70/70 [==============================] - 0s 157us/step - loss: 0.4312 - acc: 0.7857\n",
      "Epoch 37/40\n",
      "70/70 [==============================] - 0s 716us/step - loss: 0.4289 - acc: 0.7857\n",
      "Epoch 38/40\n",
      "70/70 [==============================] - 0s 150us/step - loss: 0.4426 - acc: 0.7714\n",
      "Epoch 39/40\n",
      "70/70 [==============================] - 0s 153us/step - loss: 0.4362 - acc: 0.7857\n",
      "Epoch 40/40\n",
      "70/70 [==============================] - 0s 153us/step - loss: 0.4371 - acc: 0.8000\n"
     ]
    },
    {
     "data": {
      "text/plain": [
       "<keras.callbacks.History at 0x7f4c0aeebb00>"
      ]
     },
     "execution_count": 29,
     "metadata": {},
     "output_type": "execute_result"
    }
   ],
   "source": [
    "model.fit(X_train, y_train, epochs=40)"
   ]
  },
  {
   "cell_type": "code",
   "execution_count": 30,
   "metadata": {},
   "outputs": [
    {
     "data": {
      "text/plain": [
       "<matplotlib.legend.Legend at 0x7f4bc7f058d0>"
      ]
     },
     "execution_count": 30,
     "metadata": {},
     "output_type": "execute_result"
    },
    {
     "data": {
      "image/png": "[encoded data removed]",
      "text/plain": [
       "<Figure size 432x288 with 1 Axes>"
      ]
     },
     "metadata": {
      "needs_background": "light"
     },
     "output_type": "display_data"
    }
   ],
   "source": [
    "ax = df.plot(kind='scatter', x='Time (min)', y='Buy',\n",
    "             title='Purchase behavior VS time spent on site')\n",
    "\n",
    "t = np.linspace(0, 4)\n",
    "ax.plot(t, model.predict(t), color='orange')\n",
    "\n",
    "plt.legend(['model', 'data'])"
   ]
  },
  {
   "cell_type": "markdown",
   "metadata": {},
   "source": [
    "### 3. Evaluate Model Performance"
   ]
  },
  {
   "cell_type": "markdown",
   "metadata": {},
   "source": [
    "#### Accuracy"
   ]
  },
  {
   "cell_type": "code",
   "execution_count": null,
   "metadata": {},
   "outputs": [],
   "source": [
    "from sklearn.metrics import accuracy_score"
   ]
  },
  {
   "cell_type": "code",
   "execution_count": null,
   "metadata": {},
   "outputs": [],
   "source": [
    "y_train_pred = model.predict_classes(X_train)\n",
    "y_test_pred = model.predict_classes(X_test)"
   ]
  },
  {
   "cell_type": "code",
   "execution_count": null,
   "metadata": {},
   "outputs": [],
   "source": [
    "print(\"The train accuracy score is {:0.3f}\".format(accuracy_score(y_train, y_train_pred)))\n",
    "print(\"The test accuracy score is {:0.3f}\".format(accuracy_score(y_test, y_test_pred)))"
   ]
  },
  {
   "cell_type": "markdown",
   "metadata": {},
   "source": [
    "#### Confusion Matrix & Classification Report"
   ]
  },
  {
   "cell_type": "code",
   "execution_count": null,
   "metadata": {},
   "outputs": [],
   "source": [
    "from sklearn.metrics import confusion_matrix"
   ]
  },
  {
   "cell_type": "code",
   "execution_count": null,
   "metadata": {
    "scrolled": false
   },
   "outputs": [],
   "source": [
    "confusion_matrix(y_test, y_test_pred)"
   ]
  },
  {
   "cell_type": "code",
   "execution_count": null,
   "metadata": {},
   "outputs": [],
   "source": [
    "def pretty_confusion_matrix(y_true, y_pred, labels=[\"False\", \"True\"]):\n",
    "    cm = confusion_matrix(y_true, y_pred)\n",
    "    pred_labels = ['Predicted '+ l for l in labels]\n",
    "    df = pd.DataFrame(cm, index=labels, columns=pred_labels)\n",
    "    return df"
   ]
  },
  {
   "cell_type": "code",
   "execution_count": null,
   "metadata": {},
   "outputs": [],
   "source": [
    "pretty_confusion_matrix(y_test, y_test_pred, ['Not Buy', 'Buy'])"
   ]
  },
  {
   "cell_type": "code",
   "execution_count": null,
   "metadata": {},
   "outputs": [],
   "source": [
    "from sklearn.metrics import classification_report"
   ]
  },
  {
   "cell_type": "code",
   "execution_count": null,
   "metadata": {},
   "outputs": [],
   "source": [
    "print(classification_report(y_test, y_test_pred))"
   ]
  },
  {
   "cell_type": "markdown",
   "metadata": {},
   "source": [
    "## Exercise"
   ]
  },
  {
   "cell_type": "markdown",
   "metadata": {},
   "source": [
    "You've just been hired at a real estate investment firm and they would like you to build a model for pricing houses. You are given a dataset that contains data for house prices and a few features like number of bedrooms, size in square feet and age of the house. Let's see if you can build a model that is able to predict the price. In this exercise we extend what we have learned about linear regression to a dataset with more than one feature. Here are the steps to complete it:\n",
    "\n",
    "1. Load the dataset ../data/housing-data.csv\n",
    "- create 2 variables called X and y: X shall be a matrix with 3 columns (sqft,bdrms,age) and y shall be a vector with 1 column (price)\n",
    "- create a linear regression model in Keras with the appropriate number of inputs and output\n",
    "- split the data into train and test with a 20% test size, use `random_state=0` for consistency with classmates\n",
    "- train the model on the training set and check its accuracy on training and test set\n",
    "- how's your model doing? Is the loss decreasing?\n",
    "- try to improve your model with these experiments:\n",
    "    - normalize the input features:\n",
    "        - divide sqft by 1000\n",
    "        - divide age by 10\n",
    "        - divide price by 100000\n",
    "    - use a different value for the learning rate of your model\n",
    "    - use a different optimizer\n",
    "- once you're satisfied with training, check the R2score on the test set"
   ]
  },
  {
   "cell_type": "code",
   "execution_count": null,
   "metadata": {
    "collapsed": true
   },
   "outputs": [],
   "source": []
  }
 ],
 "metadata": {
  "kernelspec": {
   "display_name": "Python 3",
   "language": "python",
   "name": "python3"
  },
  "language_info": {
   "codemirror_mode": {
    "name": "ipython",
    "version": 3
   },
   "file_extension": ".py",
   "mimetype": "text/x-python",
   "name": "python",
   "nbconvert_exporter": "python",
   "pygments_lexer": "ipython3",
   "version": "3.6.6"
  }
 },
 "nbformat": 4,
 "nbformat_minor": 2
}
